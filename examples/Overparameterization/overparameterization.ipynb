{
 "cells": [
  {
   "cell_type": "markdown",
   "metadata": {},
   "source": [
    "# Overparameterization in Probabilistic Circuits\n",
    "\n",
    "Based on the article \"[Optimisation of Overparametrized Sum-Product Networks][Trapp]\" of Trapp, Peharz and Pernkopf.\n",
    "\n",
    "[Trapp]: https://arxiv.org/abs/1905.08196.pdf"
   ]
  },
  {
   "cell_type": "code",
   "execution_count": 1,
   "metadata": {},
   "outputs": [
    {
     "name": "stderr",
     "output_type": "stream",
     "text": [
      "\u001b[32m\u001b[1m  Activating\u001b[22m\u001b[39m project at `~/code/RPCircuits.jl`\n",
      "┌ Info: Precompiling RPCircuits [a494de23-34c1-4aeb-b541-d9435dced8c8]\n",
      "└ @ Base loading.jl:1423\n"
     ]
    }
   ],
   "source": [
    "using Pkg\n",
    "Pkg.activate(\"/home/jonasrlg/code/RPCircuits.jl/\")\n",
    "using RPCircuits, Random, DelimitedFiles, Plots\n",
    "using Distributions: rand, truncated, Normal\n",
    "using Statistics: mean, std"
   ]
  },
  {
   "cell_type": "code",
   "execution_count": 2,
   "metadata": {},
   "outputs": [
    {
     "data": {
      "text/plain": [
       "build_pc (generic function with 1 method)"
      ]
     },
     "execution_count": 2,
     "metadata": {},
     "output_type": "execute_result"
    }
   ],
   "source": [
    "function build_sum(dimension::Int; var::Float64 = 0.1)\n",
    "    # Builds the sub-component of the variable w.r.t index = dimension\n",
    "    a, na = Indicator(dimension, 1), Indicator(dimension, 0)\n",
    "    # Initialize weights close to zero\n",
    "    w = rand(truncated(Normal(0, var), 0, Inf), 2)\n",
    "    return Sum([a,na], w)\n",
    "end\n",
    "\n",
    "function build_component(ndim::Int; var::Float64 = 0.1)\n",
    "    # Builds a component: a Prodcut node that has 'ndim' children,\n",
    "    # where each children corresponds to a Sum node that takes\n",
    "    # two Indicator nodes (of the same variable) as children\n",
    "    sums = Vector{Node}(undef, ndim)\n",
    "    for dim ∈ 1:ndim\n",
    "        sums[dim] = build_sum(dim; var=var)\n",
    "    end\n",
    "    return Product(sums)\n",
    "end\n",
    "\n",
    "function build_pc(ncomponents::Int, depth::Int, ndim::Int; var::Float64 = 0.1)\n",
    "    if depth == 1\n",
    "        components = Vector{Node}(undef, ncomponents)\n",
    "        for c ∈ 1:ncomponents\n",
    "            components[c] = build_component(ndim; var=var)\n",
    "        end\n",
    "        # Initialize weights close to zero\n",
    "        w = rand(truncated(Normal(0, var), 0, Inf), ncomponents)\n",
    "        return Sum(components, w)\n",
    "    end\n",
    "    # Recursevily builds left and right circuits\n",
    "    # Initialize weights close to zero\n",
    "    w = rand(truncated(Normal(0, var), 0, Inf), 2)\n",
    "    l = build_pc(ncomponents ÷ 2,depth-1, ndim; var=var)\n",
    "    r = build_pc(ncomponents ÷ 2,depth-1, ndim; var=var)\n",
    "    # Creates root\n",
    "    return Sum([l,r], w)\n",
    "end"
   ]
  },
  {
   "cell_type": "code",
   "execution_count": 3,
   "metadata": {},
   "outputs": [
    {
     "data": {
      "text/plain": [
       "0.1"
      ]
     },
     "execution_count": 3,
     "metadata": {},
     "output_type": "execute_result"
    }
   ],
   "source": [
    "# Name of the desired dataset\n",
    "name = \"nltcs\"\n",
    "\n",
    "# Maxiumum depth of the circuit (Number of components = 2^k)\n",
    "k = 3\n",
    "ncomps = 2^k\n",
    "\n",
    "# Learning rate\n",
    "η = 0.0001\n",
    "\n",
    "# Number of iterations\n",
    "maxiter = 500\n",
    "\n",
    "# Number of re-runs\n",
    "runs = 3;\n",
    "\n",
    "# Variance of the gaussian that Initializes the random weights\n",
    "init_var = 0.1"
   ]
  },
  {
   "cell_type": "code",
   "execution_count": 4,
   "metadata": {},
   "outputs": [
    {
     "data": {
      "text/plain": [
       "(16181, 16)"
      ]
     },
     "execution_count": 4,
     "metadata": {},
     "output_type": "execute_result"
    }
   ],
   "source": [
    "# Load dataset\n",
    "path = \"/home/jonasrlg/code/Density-Estimation-Datasets/datasets/\" * name * \"/\" * name* \".train.data\"\n",
    "data = readdlm(path, ',', Int)\n",
    "n, dim = size(data)"
   ]
  },
  {
   "cell_type": "code",
   "execution_count": 5,
   "metadata": {},
   "outputs": [],
   "source": [
    "# Train llh values for PCs with deepth 1, 2, ..., k\n",
    "llh = Vector{Matrix{Float64}}(undef, k)\n",
    "for i ∈ 1:k\n",
    "    llh[i] = Matrix{Float64}(undef, runs, maxiter)\n",
    "end"
   ]
  },
  {
   "cell_type": "code",
   "execution_count": 6,
   "metadata": {},
   "outputs": [],
   "source": [
    "# Runing experiments\n",
    "for run ∈ 1:runs\n",
    "    # d is the depth of the PC\n",
    "    for d ∈ 1:k\n",
    "        # Creates PC with weights close to zero and depth = d\n",
    "        C = build_pc(ncomps,d,dim; var=init_var)\n",
    "        L_C = Gradient(C)\n",
    "        for iter ∈ 1:maxiter\n",
    "            update(L_C, data; learningrate=η) # One iteration of Gradient Descent\n",
    "            llh[d][run, iter] = -L_C.score\n",
    "        end\n",
    "    end\n",
    "end"
   ]
  },
  {
   "cell_type": "code",
   "execution_count": 7,
   "metadata": {},
   "outputs": [],
   "source": [
    "plot(title = \"Overparameterization on \" * name, xlabel = \"Iteration\", \n",
    "    ylabel = \"Train LLH\", legend=:topleft)\n",
    "\n",
    "llh_mean = Vector{Vector{Float64}}(undef, k)\n",
    "# Estimate performance over all re-runs.\n",
    "for fig ∈ 1:k\n",
    "    llh_mean[fig] = vec(mean(llh[fig], dims=1))\n",
    "    plot!(llh_mean[fig], label=\"Depth = $fig\", ribbon=vec(std(llh[fig], dims=1)))\n",
    "end"
   ]
  },
  {
   "cell_type": "code",
   "execution_count": 8,
   "metadata": {},
   "outputs": [],
   "source": [
    "# Save to disk.\n",
    "savefig(name * \"_notebook_experiment.pdf\")"
   ]
  },
  {
   "cell_type": "code",
   "execution_count": 9,
   "metadata": {},
   "outputs": [
    {
     "data": {
      "text/plain": [
       "31503"
      ]
     },
     "execution_count": 9,
     "metadata": {},
     "output_type": "execute_result"
    }
   ],
   "source": [
    "open(name * \"_notebook_all_experiment.txt\", \"w\") do file\n",
    "    write(file, string(llh))\n",
    "end\n",
    "\n",
    "open(name * \"_notebook_mean_experiment.txt\", \"w\") do file\n",
    "    write(file, string(llh_mean))\n",
    "end"
   ]
  }
 ],
 "metadata": {
  "kernelspec": {
   "display_name": "Julia (4 threads) 1.7.2",
   "language": "julia",
   "name": "julia-(4-threads)-1.7"
  },
  "language_info": {
   "file_extension": ".jl",
   "mimetype": "application/julia",
   "name": "julia",
   "version": "1.7.2"
  }
 },
 "nbformat": 4,
 "nbformat_minor": 2
}
